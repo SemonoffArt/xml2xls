{
 "cells": [
  {
   "cell_type": "markdown",
   "id": "161c8941-d802-4033-9123-780ab0599324",
   "metadata": {
    "pycharm": {
     "name": "#%% md\n"
    }
   },
   "source": [
    "# ECS2XLS конвертор експорта трендов XML в XLSX,\n",
    "## Назначение,\n",
    "Преобразование  xml файла экспорта трендов ECS8 в EXCEL.,\n",
    "## Использование,\n",
    " - загрузить XML файл в папку `./trends`;,\n",
    " - нажать кнопку \"обновить список\";,\n",
    " - выбрать в dropdown меню загруженный файл;,\n",
    " - нажать конпку \\\"конверитировать\\\";,\n",
    " - дождаться окончания работы скрипта;,\n",
    " - из папки `./trends` скачать файл с именем XML отчёта  и расширением xlsx.,\n",
    " "
   ]
  },
  {
   "cell_type": "code",
   "execution_count": null,
   "id": "1874ce8c-2cd0-4abe-bf4e-ca5070c22491",
   "metadata": {
    "pycharm": {
     "name": "#%%\n"
    }
   },
   "outputs": [],
   "source": [
    "import logging\n",
    "import os\n",
    "import time\n",
    "import xml.etree.ElementTree as ET\n",
    "from datetime import datetime, timedelta\n",
    "from pathlib import Path\n",
    "import ipywidgets as wg  # элементы управления для jupyter\n",
    "\n",
    "# import numpy as np\n",
    "import pandas as pd\n",
    "from alive_progress import alive_bar, config_handler"
   ]
  },
  {
   "cell_type": "code",
   "execution_count": null,
   "id": "34869bba-edb4-4365-acdc-65ed0bd8184d",
   "metadata": {
    "pycharm": {
     "name": "#%%\n"
    }
   },
   "outputs": [],
   "source": [
    "DEBUG = False\n",
    "DATA = []\n",
    "QNTY_TAGS = 0  # колличество тегов\n",
    "QNTY_VALS = 0  # колличество значений\n",
    "_PRG_DIR = Path(\"./\").absolute()\n",
    "_TRND_DIR = _PRG_DIR / \"trends/\"\n",
    "_LOG_FILE = _PRG_DIR / \"xml2xls.log\"\n",
    "_MAX_ROWS_EXL = 1000000  # макс. кол-во строк в Excel 1048000\n",
    "_MAGADAN_UTC = 11  # Магаданское время +11 часов к UTC\n",
    "log_format = f\"%(asctime)s - %(levelname)s -(%(funcName)s(%(lineno)d) - %(message)s\"\n",
    "logging.basicConfig(\n",
    "    format=log_format,\n",
    "    level=logging.DEBUG if DEBUG else logging.INFO,\n",
    "    # filename=_LOG_FILE,\n",
    ")\n",
    "logger = logging.getLogger()\n"
   ]
  },
  {
   "cell_type": "code",
   "execution_count": null,
   "id": "9a434f8a-93d0-4aac-87dd-6f4b5973c8d9",
   "metadata": {
    "pycharm": {
     "name": "#%%\n"
    }
   },
   "outputs": [],
   "source": [
    "def get_trends_files_name(sortby=\"time\", rev=True) -> list:\n",
    "    \"\"\"Получение списка XML файлов в папке Trends\"\"\"\n",
    "    sort = {\"time\": os.path.getmtime, \"size\": os.path.getsize, \"name\": None}\n",
    "    files = []\n",
    "    for file in sorted(_TRND_DIR.glob(\"*.xml\"), reverse=rev, key=sort[sortby]):\n",
    "        files.append(file.name)\n",
    "    return files"
   ]
  },
  {
   "cell_type": "code",
   "execution_count": null,
   "id": "ff0ffcd8-c201-4ef6-94c9-f6a3818eaba1",
   "metadata": {
    "pycharm": {
     "name": "#%%\n"
    }
   },
   "outputs": [],
   "source": [
    "def open_xml(xml_file_name: str):\n",
    "    \"\"\"\"\"\"\n",
    "    tree = ET.parse(_TRND_DIR / xml_file_name)\n",
    "    root = tree.getroot()\n",
    "    return root\n",
    "def get_trends_info(xml_root) -> dict:\n",
    "    \"Извлечение из xml информации по трендам\"\n",
    "    trends_info = {}\n",
    "    date_format = \"%Y-%m-%dT%H:%M:%S\"\n",
    "    # период выборки\n",
    "    trends_info[\"start_interval\"] = datetime.strptime(\n",
    "        xml_root[1].text[:19], date_format\n",
    "    )\n",
    "    trends_info[\"end_interval\"] = datetime.strptime(xml_root[0].text[:19], date_format)\n",
    "    # указатель на теги в xml\n",
    "    trends_info[\"xml_tags\"] = xml_root[3]\n",
    "    # колличество тегов\n",
    "    trends_info[\"qty_tags\"] = len(xml_root[3])\n",
    "    return trends_info\n",
    "def get_new_progbar(min=0, max=100):\n",
    "    pg = wg.IntProgress(\n",
    "        value=0,\n",
    "        min=0,\n",
    "        max=100,\n",
    "        description=\"\",\n",
    "        bar_style=\"\",  # 'success', 'info', 'warning', 'danger' or ''\n",
    "        style={\"bar_color\": \"maroon\"},\n",
    "        orientation=\"horizontal\",\n",
    "    )\n",
    "    return pg\n",
    "def get_tag_meta(tag):\n",
    "    pass"
   ]
  },
  {
   "cell_type": "code",
   "execution_count": null,
   "id": "9ed9786a-6790-415b-b540-73f4cbf46f1a",
   "metadata": {
    "pycharm": {
     "name": "#%%\n"
    }
   },
   "outputs": [],
   "source": [
    "def make_list_for_df(enteries) -> list:\n",
    "    \"\"\"\"\"\"\n",
    "    data = []\n",
    "    with w_output_log:\n",
    "        with alive_bar(len(enteries), force_tty=True, length=30) as bar:\n",
    "            for enterie in enteries:\n",
    "                # qnty_vals_l += 1\n",
    "                # w_prgbar_step_cnt += 1\n",
    "                str_time = enterie[1].text[:25].replace(\"Z\", \"\")\n",
    "                time_v = datetime.strptime(str_time, \"%Y-%m-%dT%H:%M:%S.%f\") + timedelta(\n",
    "                    hours=_MAGADAN_UTC\n",
    "                )  # enterie.find('{Fls.Core.Value.CI.Export.M1}Time').text\n",
    "                value = enterie[2].text  \n",
    "                # добавление строк в Pandas dataframe\n",
    "                # df_tag.loc[len(df_tag)] = [time_v, value]\n",
    "                data.append((time_v, value))\n",
    "                bar()\n",
    "    return data"
   ]
  },
  {
   "cell_type": "code",
   "execution_count": null,
   "id": "56c06d89-4cb6-4c7d-8165-ce92c2c2ca54",
   "metadata": {
    "pycharm": {
     "name": "#%%\n"
    }
   },
   "outputs": [],
   "source": [
    "def convert_xml2xls(xml_file_name):\n",
    "    \"\"\"\"\"\"\n",
    "    start_time = time.time()\n",
    "    data = []  #\n",
    "    data2 = []\n",
    "    w_output_log.clear_output()\n",
    "    file = _TRND_DIR / xml_file_name\n",
    "    file_size = file.stat().st_size / 1048576 \n",
    "    with w_output_log:\n",
    "        print(f\"\\n========================\")\n",
    "        print(f\"Открывается файл: {xml_file_name} Размер:  {round(file_size)} Мб\")\n",
    "        with alive_bar(1, force_tty=True, length=3 ) as bar:\n",
    "        # открытие xml файла\n",
    "            xml_root = open_xml(xml_file_name)\n",
    "            bar()\n",
    "        # получение информации о трендах\n",
    "        trends_info = get_trends_info(xml_root)\n",
    "        print(f\"Открыт за {time.time() - start_time}\")\n",
    "        print(f\"Интервал: {trends_info['start_interval']} - {trends_info['end_interval']}\")\n",
    "        print(f\"Колличество тегов: {trends_info['qty_tags']}\")\n",
    "        \n",
    "        print(f\"\\nФормируется датафрейм\")\n",
    "        s_time = time.time()\n",
    "        qnty_tags = 0\n",
    "        qnty_vals = 0\n",
    "        qnty_vals_l = 0\n",
    "        # Перебор тегов\n",
    "        for tag in trends_info[\"xml_tags\"]:  # xml_root[3]:\n",
    "            qnty_tags += 1\n",
    "            # if qnty_tags > 2: break\n",
    "            # имя тега\n",
    "            designation = tag.find(\"{Fls.Core.Value.CI.Export.M1}Designation\").text\n",
    "            unit = tag.find(\"{Fls.Core.Value.CI.Export.M1}Unit\").text\n",
    "            value_entries = []\n",
    "            # date_format = '%Y-%m-%dT%H:%M:%S.%f'\n",
    "            df_tag = pd.DataFrame(columns=[f\"{designation}_dt\", f\"{designation}_value\"])\n",
    "            enteries = tag.find(\"{Fls.Core.Value.CI.Export.M1}valueEntries\")\n",
    "            print(f\"\\n-----------------------\")\n",
    "            print(f\"Обрабатывается тег:{designation}; Количество значений: {len(enteries)}\")\n",
    "                # display(w_progbars[designation])\n",
    "            s_time = time.time()\n",
    "            qnty_vals_l = 0\n",
    "            data2 = make_list_for_df(enteries)\n",
    "            df_tag = pd.DataFrame(data2, columns=[\"dt\", \"value\"])\n",
    "            data2.clear()\n",
    "            # df_tag = df_tag.iloc[:1048576] # макс. колл-во строк в EXEL <= 1048576\n",
    "            data.append([designation, unit, df_tag])\n",
    "            qnty_vals += qnty_vals_l\n",
    "            print(\n",
    "                    f\"Обработан за:{time.time() - s_time} ; Тег/сек: {len(tag) / (time.time() - s_time)}\"\n",
    "                )\n",
    "        print(f\"\\n========================\")\n",
    "        print(f\"Парсинг закончен за время: {time.time() - start_time}\")\n",
    "        print(\n",
    "            f\"Обработано: Тегов {qnty_tags}; Значений: {qnty_vals}; Тег/сек: {qnty_vals / (time.time() - start_time)}\"\n",
    "        )\n",
    "        print(f\"\\n\\nНачало сохранения в XLSX {xml_file_name}\")\n",
    "        save_as_xlsx(data, xml_file_name + \".xlsx\")\n",
    "        print(f\"\\nExсel сохранён\")\n",
    "        print(f\"\\nВесь процесс занял времени:{time.time() - start_time}\")"
   ]
  },
  {
   "cell_type": "code",
   "execution_count": null,
   "id": "95a9f562-d47e-4ec0-b508-5d9fd7402a94",
   "metadata": {
    "pycharm": {
     "name": "#%%\n"
    }
   },
   "outputs": [],
   "source": [
    "def save_as_xlsx(dataframes: list, filename):\n",
    "    \"Сохраняет переданные datafaremes в xlsx\"\n",
    "    writer = pd.ExcelWriter(_TRND_DIR / filename, engine=\"xlsxwriter\")\n",
    "    workbook = writer.book\n",
    "    #перебот тегов \n",
    "    with alive_bar(len(dataframes), force_tty=True, length=3 ) as bar:\n",
    "        for tag in dataframes:\n",
    "            df = tag[2]  #\n",
    "            tag_name = tag[0]\n",
    "            # колл-во строк в DF\n",
    "            count_row = df.shape[0]\n",
    "            # колличество вкладок excel \n",
    "            qty_sheets = count_row // _MAX_ROWS_EXL + 1 if (count_row > _MAX_ROWS_EXL) else 1\n",
    "            logger.debug(f\"Тег: {tag[0]}; count row: {count_row}; pages:{qty_sheets} \")\n",
    "            for i in range(qty_sheets):\n",
    "                logger.debug(f\"Перебор листов i {i}\")\n",
    "                sheet_name = f\"{tag_name} {i+1}\"\n",
    "                first_row = i * _MAX_ROWS_EXL\n",
    "                end_row = (\n",
    "                    ((i + 1) * _MAX_ROWS_EXL)\n",
    "                    if count_row >= ((i + 1) * _MAX_ROWS_EXL)\n",
    "                    else count_row\n",
    "                )\n",
    "                logger.debug(f\"sheet_name: {sheet_name}; first_row: {first_row}; end row: {end_row}\")\n",
    "                df_page = df.iloc[first_row:end_row]\n",
    "                with w_output_log:\n",
    "                    print(f\"Сохраняется лист: {sheet_name}; колл записей: {df_page.shape[0]};\\n  дата от {df_page.iat[0,0]} до {df_page.iat[df_page.shape[0]-1,0]} \\n\")\n",
    "                df_page.to_excel(writer, sheet_name=sheet_name, startrow=2, startcol=0, index=False)\n",
    "                worksheet = writer.sheets[sheet_name]\n",
    "                worksheet.write(0, 0, f\"Значения тега {tag_name} за период c {df_page.iat[0,0]} по {df_page.iat[df_page.shape[0]-1,0]}\")\n",
    "            bar() \n",
    "    writer.close()"
   ]
  },
  {
   "cell_type": "markdown",
   "id": "a40fe2e5-6fd3-4eca-86da-550a9be1bcad",
   "metadata": {
    "tags": [],
    "pycharm": {
     "name": "#%% md\n"
    }
   },
   "source": [
    "#### виджеты"
   ]
  },
  {
   "cell_type": "code",
   "execution_count": null,
   "id": "2480f7be-08f5-437a-9262-e8680b62b6ea",
   "metadata": {
    "pycharm": {
     "name": "#%%\n"
    }
   },
   "outputs": [],
   "source": [
    "w_prgbar = wg.IntProgress(\n",
    "    value=0,\n",
    "    min=0,\n",
    "    max=100,\n",
    "    description=\"\",\n",
    "    bar_style=\"\",  # 'success', 'info', 'warning', 'danger' or ''\n",
    "    style={\"bar_color\": \"maroon\"},\n",
    "    orientation=\"horizontal\",\n",
    ")\n",
    "w_html1 = wg.HTML(\n",
    "    value=\"\"\"<H1>Конвертер XML to XLSX\"</H1>\n",
    "    \"\"\",\n",
    "    placeholder=\"\",\n",
    "    description=\"\",\n",
    ")\n",
    "w_html2 = wg.HTML(\n",
    "    value=\"\"\"<H2>Выберите файл для выгрузки или починки:</H2>\\\\\n",
    "    <p>Файлы сохраняются в папку <b>mim_and_fp</b>, см. панель слева.</p>\n",
    "    <p>Способ починки мимика описан в начале документа.</p>\n",
    "    \"\"\",\n",
    "    placeholder=\"\",\n",
    "    description=\"\",\n",
    ")\n",
    "w_btn_refresh_flile_list = wg.Button(\n",
    "    description=\"обновить  список файлов\",\n",
    "    disabled=False,\n",
    "    button_style=\"\",  # 'success', 'info', 'warning', 'danger' or ''\n",
    "    tooltip=\"Click me\",\n",
    "    icon=\"check\",  # (FontAwesome names without the `fa-` prefix)\n",
    ")\n",
    "w_btn_convert = wg.Button(\n",
    "    description=\"конвертировать\",\n",
    "    disabled=False,\n",
    "    button_style=\"\",  # 'success', 'info', 'warning', 'danger' or ''\n",
    "    tooltip=\"Click me\",\n",
    "    icon=\"check\",  # (FontAwesome names without the `fa-` prefix)\n",
    ")\n",
    "w_xmlfiles = wg.Dropdown(options=\"Undef\", description=\"XML файлы:\")\n",
    "def update_wg_droplist(b) -> None:\n",
    "    w_xmlfiles.options = get_trends_files_name()\n",
    "def covert(b) -> None:\n",
    "    convert_xml2xls(w_xmlfiles.value)\n",
    "update_wg_droplist(\"a\")\n",
    "w_btn_refresh_flile_list.on_click(update_wg_droplist)\n",
    "w_btn_convert.on_click(covert)\n",
    "w_output = wg.Output()\n",
    "w_output_log = wg.Output()"
   ]
  },
  {
   "cell_type": "markdown",
   "id": "a9f1f282-139f-4d34-864e-7aa023ec6475",
   "metadata": {
    "tags": [],
    "pycharm": {
     "name": "#%% md\n"
    }
   },
   "source": [
    "## Конвертер XML to XLSX"
   ]
  },
  {
   "cell_type": "code",
   "execution_count": null,
   "id": "ca3e8ec2-7d2a-40a5-a80e-36bd2ec195a3",
   "metadata": {
    "tags": [],
    "pycharm": {
     "name": "#%%\n"
    }
   },
   "outputs": [],
   "source": [
    "display(\n",
    "    w_html1,\n",
    "    wg.HBox([w_xmlfiles, w_btn_refresh_flile_list]),\n",
    "    w_btn_convert,\n",
    "    w_output_log,\n",
    ")"
   ]
  },
  {
   "cell_type": "code",
   "execution_count": null,
   "id": "033a5627-6ced-4260-83a9-6d65d4b6f5d2",
   "metadata": {
    "tags": [],
    "pycharm": {
     "name": "#%%\n"
    }
   },
   "outputs": [],
   "source": []
  },
  {
   "cell_type": "code",
   "execution_count": null,
   "id": "16640964-4055-4437-859f-0fa51da55279",
   "metadata": {
    "pycharm": {
     "name": "#%%\n"
    }
   },
   "outputs": [],
   "source": []
  }
 ],
 "metadata": {
  "kernelspec": {
   "display_name": "Python 3 (ipykernel)",
   "language": "python",
   "name": "python3"
  },
  "language_info": {
   "codemirror_mode": {
    "name": "ipython",
    "version": 3
   },
   "file_extension": ".py",
   "mimetype": "text/x-python",
   "name": "python",
   "nbconvert_exporter": "python",
   "pygments_lexer": "ipython3",
   "version": "3.10.12"
  }
 },
 "nbformat": 4,
 "nbformat_minor": 5
}